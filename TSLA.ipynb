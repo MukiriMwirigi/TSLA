{
 "cells": [
  {
   "cell_type": "markdown",
   "metadata": {},
   "source": [
    "**FINANCIAL DATA ANALYSIS**\n",
    "\n",
    "Pandas\n",
    "Numpy\n",
    "Matplotlib\n",
    "Beautifulsoup\n",
    "Scikit-learn /sklearn "
   ]
  },
  {
   "cell_type": "code",
   "execution_count": 1,
   "metadata": {},
   "outputs": [
    {
     "name": "stdout",
     "output_type": "stream",
     "text": [
      "Requirement already satisfied: pandas_datareader in c:\\users\\mukiri\\anaconda3\\lib\\site-packages (0.9.0)Note: you may need to restart the kernel to use updated packages.\n",
      "Requirement already satisfied: lxml in c:\\users\\mukiri\\anaconda3\\lib\\site-packages (from pandas_datareader) (4.6.1)\n",
      "Requirement already satisfied: requests>=2.19.0 in c:\\users\\mukiri\\anaconda3\\lib\\site-packages (from pandas_datareader) (2.24.0)\n",
      "Requirement already satisfied: pandas>=0.23 in c:\\users\\mukiri\\anaconda3\\lib\\site-packages (from pandas_datareader) (1.0.5)\n",
      "Requirement already satisfied: chardet<4,>=3.0.2 in c:\\users\\mukiri\\anaconda3\\lib\\site-packages (from requests>=2.19.0->pandas_datareader) (3.0.4)\n",
      "Requirement already satisfied: certifi>=2017.4.17 in c:\\users\\mukiri\\anaconda3\\lib\\site-packages (from requests>=2.19.0->pandas_datareader) (2020.6.20)\n",
      "Requirement already satisfied: urllib3!=1.25.0,!=1.25.1,<1.26,>=1.21.1 in c:\\users\\mukiri\\anaconda3\\lib\\site-packages (from requests>=2.19.0->pandas_datareader) (1.25.11)\n",
      "Requirement already satisfied: idna<3,>=2.5 in c:\\users\\mukiri\\anaconda3\\lib\\site-packages (from requests>=2.19.0->pandas_datareader) (2.10)\n",
      "Requirement already satisfied: python-dateutil>=2.6.1 in c:\\users\\mukiri\\anaconda3\\lib\\site-packages (from pandas>=0.23->pandas_datareader) (2.8.1)\n",
      "Requirement already satisfied: pytz>=2017.2 in c:\\users\\mukiri\\anaconda3\\lib\\site-packages (from pandas>=0.23->pandas_datareader) (2020.1)\n",
      "\n",
      "Requirement already satisfied: numpy>=1.13.3 in c:\\users\\mukiri\\anaconda3\\lib\\site-packages (from pandas>=0.23->pandas_datareader) (1.19.1)\n",
      "Requirement already satisfied: six>=1.5 in c:\\users\\mukiri\\anaconda3\\lib\\site-packages (from python-dateutil>=2.6.1->pandas>=0.23->pandas_datareader) (1.15.0)\n"
     ]
    }
   ],
   "source": [
    "pip install pandas_datareader"
   ]
  },
  {
   "cell_type": "code",
   "execution_count": 2,
   "metadata": {},
   "outputs": [
    {
     "name": "stdout",
     "output_type": "stream",
     "text": [
      "Requirement already satisfied: mplfinance in c:\\users\\mukiri\\anaconda3\\lib\\site-packages (0.12.7a10)Note: you may need to restart the kernel to use updated packages.\n",
      "\n",
      "Requirement already satisfied: matplotlib in c:\\users\\mukiri\\anaconda3\\lib\\site-packages (from mplfinance) (3.3.2)\n",
      "Requirement already satisfied: pandas in c:\\users\\mukiri\\anaconda3\\lib\\site-packages (from mplfinance) (1.0.5)\n",
      "Requirement already satisfied: cycler>=0.10 in c:\\users\\mukiri\\anaconda3\\lib\\site-packages (from matplotlib->mplfinance) (0.10.0)\n",
      "Requirement already satisfied: numpy>=1.15 in c:\\users\\mukiri\\anaconda3\\lib\\site-packages (from matplotlib->mplfinance) (1.19.1)\n",
      "Requirement already satisfied: python-dateutil>=2.1 in c:\\users\\mukiri\\anaconda3\\lib\\site-packages (from matplotlib->mplfinance) (2.8.1)\n",
      "Requirement already satisfied: certifi>=2020.06.20 in c:\\users\\mukiri\\anaconda3\\lib\\site-packages (from matplotlib->mplfinance) (2020.6.20)\n",
      "Requirement already satisfied: kiwisolver>=1.0.1 in c:\\users\\mukiri\\anaconda3\\lib\\site-packages (from matplotlib->mplfinance) (1.3.0)\n",
      "Requirement already satisfied: pillow>=6.2.0 in c:\\users\\mukiri\\anaconda3\\lib\\site-packages (from matplotlib->mplfinance) (8.0.1)\n",
      "Requirement already satisfied: pyparsing!=2.0.4,!=2.1.2,!=2.1.6,>=2.0.3 in c:\\users\\mukiri\\anaconda3\\lib\\site-packages (from matplotlib->mplfinance) (2.4.7)\n",
      "Requirement already satisfied: pytz>=2017.2 in c:\\users\\mukiri\\anaconda3\\lib\\site-packages (from pandas->mplfinance) (2020.1)\n",
      "Requirement already satisfied: six in c:\\users\\mukiri\\anaconda3\\lib\\site-packages (from cycler>=0.10->matplotlib->mplfinance) (1.15.0)\n"
     ]
    }
   ],
   "source": [
    "pip install mplfinance"
   ]
  },
  {
   "cell_type": "markdown",
   "metadata": {},
   "source": [
    "### GET THE DATA FROM WEB AND CONVERT TO CSV AND DISPLAY"
   ]
  },
  {
   "cell_type": "code",
   "execution_count": 38,
   "metadata": {},
   "outputs": [],
   "source": [
    "import datetime as dt # to set start and end times for data we use\n",
    "import matplotlib.pyplot as plt\n",
    "from matplotlib import style \n",
    "#from matplotlib.finance import candlestick_ohl\n",
    "import mplfinance as mpf\n",
    "from mplfinance.original_flavor import candlestick_ohlc\n",
    "import matplotlib.dates as mdates \n",
    "import pandas as pd\n",
    "import pandas_datareader.data as web\n",
    "\n",
    "style.use('ggplot')\n",
    "\"\"\"\n",
    "start=dt.datetime(2000,1,1)\n",
    "end=dt.datetime(2020,12,31)\n",
    "\"\"\"\n",
    "#to create our dataframe use the company's tinker, source, starttime, endtime\n",
    "\"\"\"\n",
    "df=web.DataReader('TSLA','yahoo', start, end)\n",
    "print(df.head())\n",
    "\"\"\"\n",
    "# to convert csv\n",
    "\"\"\"\n",
    "df.to_csv('tsla.csv')\n",
    "\"\"\"\n",
    "#after conversion mute the above, read csv and set date as index (this is because on conversion date is no longer index)\n",
    "df=pd.read_csv('tsla.csv', parse_dates=True, index_col=0)"
   ]
  },
  {
   "cell_type": "code",
   "execution_count": 39,
   "metadata": {},
   "outputs": [
    {
     "data": {
      "text/plain": [
       "<bound method NDFrame.head of                   High         Low       Open       Close      Volume  \\\n",
       "Date                                                                    \n",
       "2010-06-29    5.000000    3.508000    3.80000    4.778000  93831500.0   \n",
       "2010-06-30    6.084000    4.660000    5.15800    4.766000  85935500.0   \n",
       "2010-07-01    5.184000    4.054000    5.00000    4.392000  41094000.0   \n",
       "2010-07-02    4.620000    3.742000    4.60000    3.840000  25699000.0   \n",
       "2010-07-06    4.000000    3.166000    4.00000    3.222000  34334500.0   \n",
       "...                ...         ...        ...         ...         ...   \n",
       "2020-12-24  666.090027  641.000000  642.98999  661.770020  22865600.0   \n",
       "2020-12-28  681.400024  660.799988  674.51001  663.690002  32278600.0   \n",
       "2020-12-29  669.900024  655.000000  661.00000  665.989990  22910800.0   \n",
       "2020-12-30  696.599976  668.359985  672.00000  694.780029  42846000.0   \n",
       "2020-12-31  718.719971  691.119995  699.98999  705.669983  49649900.0   \n",
       "\n",
       "             Adj Close  \n",
       "Date                    \n",
       "2010-06-29    4.778000  \n",
       "2010-06-30    4.766000  \n",
       "2010-07-01    4.392000  \n",
       "2010-07-02    3.840000  \n",
       "2010-07-06    3.222000  \n",
       "...                ...  \n",
       "2020-12-24  661.770020  \n",
       "2020-12-28  663.690002  \n",
       "2020-12-29  665.989990  \n",
       "2020-12-30  694.780029  \n",
       "2020-12-31  705.669983  \n",
       "\n",
       "[2647 rows x 6 columns]>"
      ]
     },
     "execution_count": 39,
     "metadata": {},
     "output_type": "execute_result"
    }
   ],
   "source": [
    "df.head"
   ]
  },
  {
   "cell_type": "code",
   "execution_count": 40,
   "metadata": {},
   "outputs": [
    {
     "data": {
      "image/png": "[encoded data removed]",
      "text/plain": [
       "<Figure size 432x288 with 1 Axes>"
      ]
     },
     "metadata": {},
     "output_type": "display_data"
    }
   ],
   "source": [
    "df.plot()\n",
    "plt.show()"
   ]
  },
  {
   "cell_type": "code",
   "execution_count": 41,
   "metadata": {},
   "outputs": [
    {
     "name": "stdout",
     "output_type": "stream",
     "text": [
      "AxesSubplot(0.125,0.2;0.775x0.68)\n"
     ]
    },
    {
     "data": {
      "image/png": "[encoded data removed]",
      "text/plain": [
       "<Figure size 432x288 with 1 Axes>"
      ]
     },
     "metadata": {},
     "output_type": "display_data"
    }
   ],
   "source": [
    "print((df['Adj Close']).plot())"
   ]
  },
  {
   "cell_type": "markdown",
   "metadata": {},
   "source": [
    "### BASIC MANIPULATION"
   ]
  },
  {
   "cell_type": "code",
   "execution_count": 42,
   "metadata": {},
   "outputs": [
    {
     "data": {
      "text/plain": [
       "<bound method NDFrame.tail of                   High         Low       Open       Close      Volume  \\\n",
       "Date                                                                    \n",
       "2010-06-29    5.000000    3.508000    3.80000    4.778000  93831500.0   \n",
       "2010-06-30    6.084000    4.660000    5.15800    4.766000  85935500.0   \n",
       "2010-07-01    5.184000    4.054000    5.00000    4.392000  41094000.0   \n",
       "2010-07-02    4.620000    3.742000    4.60000    3.840000  25699000.0   \n",
       "2010-07-06    4.000000    3.166000    4.00000    3.222000  34334500.0   \n",
       "...                ...         ...        ...         ...         ...   \n",
       "2020-12-24  666.090027  641.000000  642.98999  661.770020  22865600.0   \n",
       "2020-12-28  681.400024  660.799988  674.51001  663.690002  32278600.0   \n",
       "2020-12-29  669.900024  655.000000  661.00000  665.989990  22910800.0   \n",
       "2020-12-30  696.599976  668.359985  672.00000  694.780029  42846000.0   \n",
       "2020-12-31  718.719971  691.119995  699.98999  705.669983  49649900.0   \n",
       "\n",
       "             Adj Close       100ma  \n",
       "Date                                \n",
       "2010-06-29    4.778000    4.778000  \n",
       "2010-06-30    4.766000    4.772000  \n",
       "2010-07-01    4.392000    4.645333  \n",
       "2010-07-02    3.840000    4.444000  \n",
       "2010-07-06    3.222000    4.199600  \n",
       "...                ...         ...  \n",
       "2020-12-24  661.770020  456.849940  \n",
       "2020-12-28  663.690002  460.516800  \n",
       "2020-12-29  665.989990  464.197540  \n",
       "2020-12-30  694.780029  468.239920  \n",
       "2020-12-31  705.669983  472.459480  \n",
       "\n",
       "[2647 rows x 7 columns]>"
      ]
     },
     "execution_count": 42,
     "metadata": {},
     "output_type": "execute_result"
    }
   ],
   "source": [
    "# to create new columns > '100 moving average' - the average of the last 99 days done everyday \n",
    "df['100ma'] = df['Adj Close'].rolling(window=100, min_periods=0).mean()\n",
    "df.tail"
   ]
  },
  {
   "cell_type": "code",
   "execution_count": 43,
   "metadata": {},
   "outputs": [
    {
     "data": {
      "text/plain": [
       "<bound method NDFrame.head of                   High         Low       Open       Close      Volume  \\\n",
       "Date                                                                    \n",
       "2010-06-29    5.000000    3.508000    3.80000    4.778000  93831500.0   \n",
       "2010-06-30    6.084000    4.660000    5.15800    4.766000  85935500.0   \n",
       "2010-07-01    5.184000    4.054000    5.00000    4.392000  41094000.0   \n",
       "2010-07-02    4.620000    3.742000    4.60000    3.840000  25699000.0   \n",
       "2010-07-06    4.000000    3.166000    4.00000    3.222000  34334500.0   \n",
       "...                ...         ...        ...         ...         ...   \n",
       "2020-12-24  666.090027  641.000000  642.98999  661.770020  22865600.0   \n",
       "2020-12-28  681.400024  660.799988  674.51001  663.690002  32278600.0   \n",
       "2020-12-29  669.900024  655.000000  661.00000  665.989990  22910800.0   \n",
       "2020-12-30  696.599976  668.359985  672.00000  694.780029  42846000.0   \n",
       "2020-12-31  718.719971  691.119995  699.98999  705.669983  49649900.0   \n",
       "\n",
       "             Adj Close       100ma  \n",
       "Date                                \n",
       "2010-06-29    4.778000    4.778000  \n",
       "2010-06-30    4.766000    4.772000  \n",
       "2010-07-01    4.392000    4.645333  \n",
       "2010-07-02    3.840000    4.444000  \n",
       "2010-07-06    3.222000    4.199600  \n",
       "...                ...         ...  \n",
       "2020-12-24  661.770020  456.849940  \n",
       "2020-12-28  663.690002  460.516800  \n",
       "2020-12-29  665.989990  464.197540  \n",
       "2020-12-30  694.780029  468.239920  \n",
       "2020-12-31  705.669983  472.459480  \n",
       "\n",
       "[2647 rows x 7 columns]>"
      ]
     },
     "execution_count": 43,
     "metadata": {},
     "output_type": "execute_result"
    }
   ],
   "source": [
    "#to drop the first days that can have 100ma\n",
    "df.dropna(inplace=True)\n",
    "df.head"
   ]
  },
  {
   "cell_type": "code",
   "execution_count": 45,
   "metadata": {},
   "outputs": [
    {
     "data": {
      "image/png": "[encoded data removed]",
      "text/plain": [
       "<Figure size 432x288 with 2 Axes>"
      ]
     },
     "metadata": {},
     "output_type": "display_data"
    }
   ],
   "source": [
    "# axis - grid size, startingpoint, rowspan, colspan\n",
    "ax1 = plt.subplot2grid((6,1), (0,0), rowspan=5, colspan=1)\n",
    "ax2 = plt.subplot2grid((6,1), (5,0), rowspan=1, colspan=1, sharex=ax1)\n",
    "\n",
    "ax1.plot(df.index, df['Adj Close'])\n",
    "ax1.plot(df.index, df['100ma'])\n",
    "ax2.bar(df.index, df['Volume'])\n",
    "\n",
    "\n",
    "plt.show()"
   ]
  },
  {
   "cell_type": "code",
   "execution_count": 46,
   "metadata": {},
   "outputs": [
    {
     "data": {
      "text/html": [
       "<div>\n",
       "<style scoped>\n",
       "    .dataframe tbody tr th:only-of-type {\n",
       "        vertical-align: middle;\n",
       "    }\n",
       "\n",
       "    .dataframe tbody tr th {\n",
       "        vertical-align: top;\n",
       "    }\n",
       "\n",
       "    .dataframe thead th {\n",
       "        text-align: right;\n",
       "    }\n",
       "</style>\n",
       "<table border=\"1\" class=\"dataframe\">\n",
       "  <thead>\n",
       "    <tr style=\"text-align: right;\">\n",
       "      <th></th>\n",
       "      <th>open</th>\n",
       "      <th>high</th>\n",
       "      <th>low</th>\n",
       "      <th>close</th>\n",
       "    </tr>\n",
       "    <tr>\n",
       "      <th>Date</th>\n",
       "      <th></th>\n",
       "      <th></th>\n",
       "      <th></th>\n",
       "      <th></th>\n",
       "    </tr>\n",
       "  </thead>\n",
       "  <tbody>\n",
       "    <tr>\n",
       "      <th>2010-06-29</th>\n",
       "      <td>4.778</td>\n",
       "      <td>4.778</td>\n",
       "      <td>3.160</td>\n",
       "      <td>3.492</td>\n",
       "    </tr>\n",
       "    <tr>\n",
       "      <th>2010-07-09</th>\n",
       "      <td>3.480</td>\n",
       "      <td>4.128</td>\n",
       "      <td>3.410</td>\n",
       "      <td>4.128</td>\n",
       "    </tr>\n",
       "    <tr>\n",
       "      <th>2010-07-19</th>\n",
       "      <td>4.382</td>\n",
       "      <td>4.382</td>\n",
       "      <td>4.044</td>\n",
       "      <td>4.144</td>\n",
       "    </tr>\n",
       "    <tr>\n",
       "      <th>2010-07-29</th>\n",
       "      <td>4.070</td>\n",
       "      <td>4.390</td>\n",
       "      <td>3.918</td>\n",
       "      <td>3.918</td>\n",
       "    </tr>\n",
       "    <tr>\n",
       "      <th>2010-08-08</th>\n",
       "      <td>3.920</td>\n",
       "      <td>3.920</td>\n",
       "      <td>3.520</td>\n",
       "      <td>3.830</td>\n",
       "    </tr>\n",
       "  </tbody>\n",
       "</table>\n",
       "</div>"
      ],
      "text/plain": [
       "             open   high    low  close\n",
       "Date                                  \n",
       "2010-06-29  4.778  4.778  3.160  3.492\n",
       "2010-07-09  3.480  4.128  3.410  4.128\n",
       "2010-07-19  4.382  4.382  4.044  4.144\n",
       "2010-07-29  4.070  4.390  3.918  3.918\n",
       "2010-08-08  3.920  3.920  3.520  3.830"
      ]
     },
     "execution_count": 46,
     "metadata": {},
     "output_type": "execute_result"
    }
   ],
   "source": [
    "#RESAMPLE DATA\n",
    "# 1.create a new dataframe\n",
    "#to 10day(10D) - 10 min(10min) -- this is not a moving average. It is just mean for 10days\n",
    "#volume for 10 days. use sum in place of mean as it shows actual volume\n",
    "df_ohlc= df['Adj Close'].resample('10D').ohlc()\n",
    "df_volume= df['Volume'].resample('10D').sum()\n",
    "\n",
    "df_ohlc.head()\n"
   ]
  },
  {
   "cell_type": "code",
   "execution_count": 47,
   "metadata": {},
   "outputs": [
    {
     "data": {
      "text/html": [
       "<div>\n",
       "<style scoped>\n",
       "    .dataframe tbody tr th:only-of-type {\n",
       "        vertical-align: middle;\n",
       "    }\n",
       "\n",
       "    .dataframe tbody tr th {\n",
       "        vertical-align: top;\n",
       "    }\n",
       "\n",
       "    .dataframe thead th {\n",
       "        text-align: right;\n",
       "    }\n",
       "</style>\n",
       "<table border=\"1\" class=\"dataframe\">\n",
       "  <thead>\n",
       "    <tr style=\"text-align: right;\">\n",
       "      <th></th>\n",
       "      <th>Date</th>\n",
       "      <th>open</th>\n",
       "      <th>high</th>\n",
       "      <th>low</th>\n",
       "      <th>close</th>\n",
       "    </tr>\n",
       "  </thead>\n",
       "  <tbody>\n",
       "    <tr>\n",
       "      <th>0</th>\n",
       "      <td>14789.0</td>\n",
       "      <td>4.778</td>\n",
       "      <td>4.778</td>\n",
       "      <td>3.160</td>\n",
       "      <td>3.492</td>\n",
       "    </tr>\n",
       "    <tr>\n",
       "      <th>1</th>\n",
       "      <td>14799.0</td>\n",
       "      <td>3.480</td>\n",
       "      <td>4.128</td>\n",
       "      <td>3.410</td>\n",
       "      <td>4.128</td>\n",
       "    </tr>\n",
       "    <tr>\n",
       "      <th>2</th>\n",
       "      <td>14809.0</td>\n",
       "      <td>4.382</td>\n",
       "      <td>4.382</td>\n",
       "      <td>4.044</td>\n",
       "      <td>4.144</td>\n",
       "    </tr>\n",
       "    <tr>\n",
       "      <th>3</th>\n",
       "      <td>14819.0</td>\n",
       "      <td>4.070</td>\n",
       "      <td>4.390</td>\n",
       "      <td>3.918</td>\n",
       "      <td>3.918</td>\n",
       "    </tr>\n",
       "    <tr>\n",
       "      <th>4</th>\n",
       "      <td>14829.0</td>\n",
       "      <td>3.920</td>\n",
       "      <td>3.920</td>\n",
       "      <td>3.520</td>\n",
       "      <td>3.830</td>\n",
       "    </tr>\n",
       "  </tbody>\n",
       "</table>\n",
       "</div>"
      ],
      "text/plain": [
       "      Date   open   high    low  close\n",
       "0  14789.0  4.778  4.778  3.160  3.492\n",
       "1  14799.0  3.480  4.128  3.410  4.128\n",
       "2  14809.0  4.382  4.382  4.044  4.144\n",
       "3  14819.0  4.070  4.390  3.918  3.918\n",
       "4  14829.0  3.920  3.920  3.520  3.830"
      ]
     },
     "execution_count": 47,
     "metadata": {},
     "output_type": "execute_result"
    }
   ],
   "source": [
    "#reset the index for df_ohlc to set date as column\n",
    "df_ohlc.reset_index(inplace=True)\n",
    "df_ohlc[\"Date\"] = df_ohlc[\"Date\"].map(mdates.date2num)\n",
    "df_ohlc.head()\n",
    "#df_ohlc['Date'] = df_ohlc['Date'].map(matplotlibdates.date2num)"
   ]
  },
  {
   "cell_type": "code",
   "execution_count": 48,
   "metadata": {},
   "outputs": [
    {
     "data": {
      "image/png": "[encoded data removed]",
      "text/plain": [
       "<Figure size 432x288 with 2 Axes>"
      ]
     },
     "metadata": {},
     "output_type": "display_data"
    }
   ],
   "source": [
    "# axis - grid size, startingpoint, rowspan, colspan\n",
    "ax1 = plt.subplot2grid((6,1), (0,0), rowspan=5, colspan=1)\n",
    "ax2 = plt.subplot2grid((6,1), (5,0), rowspan=1, colspan=1, sharex=ax1)\n",
    "\n",
    "ax1.xaxis_date()\n",
    "candlestick_ohlc(ax1, df_ohlc.values, width=2, colorup='g')\n",
    "ax2.fill_between(df_volume.index.map(mdates.date2num), df_volume.values, 0)\n",
    "\n",
    "plt.show()"
   ]
  },
  {
   "cell_type": "code",
   "execution_count": null,
   "metadata": {},
   "outputs": [],
   "source": []
  }
 ],
 "metadata": {
  "kernelspec": {
   "display_name": "Python 3",
   "language": "python",
   "name": "python3"
  },
  "language_info": {
   "codemirror_mode": {
    "name": "ipython",
    "version": 3
   },
   "file_extension": ".py",
   "mimetype": "text/x-python",
   "name": "python",
   "nbconvert_exporter": "python",
   "pygments_lexer": "ipython3",
   "version": "3.8.5"
  }
 },
 "nbformat": 4,
 "nbformat_minor": 4
}
